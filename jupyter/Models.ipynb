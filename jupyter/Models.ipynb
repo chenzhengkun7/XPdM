{
 "cells": [
  {
   "cell_type": "code",
   "execution_count": null,
   "metadata": {
    "colab": {
     "base_uri": "https://localhost:8080/",
     "height": 34
    },
    "colab_type": "code",
    "id": "c0JFqoctt5bs",
    "outputId": "85eefc93-11b8-42a2-c3ed-45e87a9aa94e"
   },
   "outputs": [],
   "source": [
    "import os\n",
    "import numpy as np\n",
    "import pandas as pd\n",
    "import pickle\n",
    "import matplotlib.pyplot as plt\n",
    "from sklearn.model_selection import train_test_split\n",
    "from sklearn.metrics import mean_absolute_error as mae\n",
    "from sklearn.metrics import mean_squared_error as mse\n",
    "from sklearn.model_selection import cross_val_score\n",
    "import joblib\n",
    "from sklearn.model_selection import RandomizedSearchCV"
   ]
  },
  {
   "cell_type": "code",
   "execution_count": null,
   "metadata": {},
   "outputs": [],
   "source": [
    "data_location = os.path.dirname(os.path.dirname(os.path.abspath('__file__'))) + \"\\\\Data\""
   ]
  },
  {
   "cell_type": "markdown",
   "metadata": {},
   "source": [
    "## Load data\n"
   ]
  },
  {
   "cell_type": "code",
   "execution_count": null,
   "metadata": {},
   "outputs": [],
   "source": [
    "train_df = pickle.load(open(data_location + '/train_df', 'rb'))\n",
    "test_df = pickle.load(open(data_location + '/test_df', 'rb'))"
   ]
  },
  {
   "cell_type": "code",
   "execution_count": null,
   "metadata": {},
   "outputs": [],
   "source": [
    "#super_df = pd.concat([train_df,test_df],ignore_index=True)\n",
    "#X_train, X_test, y_train, y_test = train_test_split(super_df.drop(columns = [\"RUL\", \"unit\"], axis=1), super_df[\"RUL\"], test_size=0.1, random_state=42)\n",
    "X_train, X_test, y_train, y_test = train_test_split(train_df.drop(columns = [\"RUL\", \"unit\"], axis=1), train_df[\"RUL\"], test_size=0.1, random_state=42)"
   ]
  },
  {
   "cell_type": "code",
   "execution_count": null,
   "metadata": {},
   "outputs": [],
   "source": [
    "X_train = X_train[0:100]\n",
    "y_train = y_train[0:100]"
   ]
  },
  {
   "cell_type": "markdown",
   "metadata": {},
   "source": [
    "# Benchmark "
   ]
  },
  {
   "cell_type": "code",
   "execution_count": null,
   "metadata": {},
   "outputs": [],
   "source": [
    "means = [y_train.mean()] * y_train.size\n",
    "print(mse(means, y_train))"
   ]
  },
  {
   "cell_type": "markdown",
   "metadata": {},
   "source": [
    "# Linear"
   ]
  },
  {
   "cell_type": "code",
   "execution_count": null,
   "metadata": {},
   "outputs": [],
   "source": [
    "from sklearn.linear_model import LinearRegression\n",
    "\n",
    "LM = LinearRegression()\n",
    "LM.fit(X_train, y_train)\n",
    "#cross_validate(model, X_train, y_train)\n",
    "#print(\"Train mae: \"+ str(mae(model.predict(x_train) , y_train))))\n",
    "#print(\"Validation mae: \"+ str(mae(model.predict(x_val) , y_val))))"
   ]
  },
  {
   "cell_type": "markdown",
   "metadata": {},
   "source": [
    "# Tree regressor"
   ]
  },
  {
   "cell_type": "code",
   "execution_count": null,
   "metadata": {},
   "outputs": [],
   "source": [
    "from sklearn.tree import DecisionTreeRegressor"
   ]
  },
  {
   "cell_type": "code",
   "execution_count": null,
   "metadata": {},
   "outputs": [],
   "source": [
    "DT = DecisionTreeRegressor(random_state = 42)\n",
    "\n",
    "DT_random_grid = {'min_samples_split': range(2, 10),\n",
    "               'min_samples_leaf': range(1, 5),\n",
    "               'max_features': [\"auto\", \"sqrt\", \"log2\"],}\n",
    "\n",
    "DT_gs  = RandomizedSearchCV(estimator = DT, n_jobs=-1, scoring = \"neg_mean_squared_error\",\n",
    "                        param_distributions=DT_random_grid,n_iter=80,cv=5,iid=True,return_train_score =True)\n",
    "\n",
    "DT_gs.fit(X_train,y_train)\n",
    "\n",
    "DT = DT_gs.best_estimator_\n",
    "print(DT_gs.best_score_) \n",
    "print(DT_gs.best_params_)"
   ]
  },
  {
   "cell_type": "markdown",
   "metadata": {},
   "source": [
    "# Random Forest Regressor"
   ]
  },
  {
   "cell_type": "code",
   "execution_count": null,
   "metadata": {},
   "outputs": [],
   "source": [
    "from sklearn.ensemble import RandomForestRegressor"
   ]
  },
  {
   "cell_type": "code",
   "execution_count": null,
   "metadata": {},
   "outputs": [],
   "source": [
    "RF = model = RandomForestRegressor(criterion=\"mse\", random_state = 42, verbose = 1)\n",
    "\n",
    "\n",
    "RF_random_grid = {'n_estimators': range(10, 300),\n",
    "               'max_features': ['auto', 'sqrt', 'log2'],\n",
    "               'min_samples_split': range(2, 10),\n",
    "               'min_samples_leaf': range(1, 5)}\n",
    "\n",
    "RF_gs  = RandomizedSearchCV(estimator = RF, n_jobs=-1, scoring = \"neg_mean_squared_error\",\n",
    "                        param_distributions=RF_random_grid,n_iter=80,cv=5,iid=True,return_train_score =True, verbose = 1)\n",
    "\n",
    "RF_gs.fit(X_train,y_train)\n",
    "\n",
    "RF = RF_gs.best_estimator_\n",
    "print(RF_gs.best_score_) \n",
    "print(RF_gs.best_params_)"
   ]
  },
  {
   "cell_type": "markdown",
   "metadata": {},
   "source": [
    "# Boosted tree regressor"
   ]
  },
  {
   "cell_type": "code",
   "execution_count": null,
   "metadata": {},
   "outputs": [],
   "source": [
    "from sklearn.ensemble import GradientBoostingRegressor"
   ]
  },
  {
   "cell_type": "code",
   "execution_count": null,
   "metadata": {},
   "outputs": [],
   "source": [
    "GB =  GradientBoostingRegressor(random_state = 42)\n",
    "\n",
    "\n",
    "GB_random_grid = {'n_estimators': range(10, 300),\n",
    "               'learning_rate': [0.01, 0.05, 0.1, 0.2],\n",
    "               'min_samples_split': range(2, 10),\n",
    "               'min_samples_leaf': range(1, 5),\n",
    "                 'max_depth': range(2,8)}\n",
    "\n",
    "GB_gs  = RandomizedSearchCV(estimator = GB, n_jobs=-1, scoring = \"neg_mean_squared_error\",\n",
    "                        param_distributions=GB_random_grid,n_iter=82,cv=5,iid=True,return_train_score =True, verbose = 1)\n",
    "\n",
    "GB_gs.fit(X_train,y_train)\n",
    "\n",
    "GB = GB_gs.best_estimator_\n",
    "print(GB_gs.best_score_) \n",
    "print(GB_gs.best_params_)"
   ]
  },
  {
   "cell_type": "markdown",
   "metadata": {},
   "source": [
    "# Comparison"
   ]
  },
  {
   "cell_type": "code",
   "execution_count": null,
   "metadata": {},
   "outputs": [],
   "source": [
    "models = {\"Linear regression\" : {\"model\" : LM}, \"Tree regressor\" : {\"model\" : DT}, \"Random forest regressor\" : {\"model\" : RF}, \"Gradient Boosting Regressor\" : {\"model\" : GB}}"
   ]
  },
  {
   "cell_type": "code",
   "execution_count": null,
   "metadata": {},
   "outputs": [],
   "source": [
    "print(mse([y_train.mean()]*len(y_train), y_train))\n",
    "print(mse([y_train.mean()]*len(y_test), y_test))\n"
   ]
  },
  {
   "cell_type": "code",
   "execution_count": null,
   "metadata": {},
   "outputs": [],
   "source": [
    "for key in models.keys():\n",
    "    models[key][\"train_mse\"] = mse(models[key][\"model\"].predict(X_train), y_train)\n",
    "    models[key][\"test_mse\"] = mse(models[key][\"model\"].predict(X_test), y_test)"
   ]
  },
  {
   "cell_type": "code",
   "execution_count": null,
   "metadata": {},
   "outputs": [],
   "source": [
    "model_names = list(models.keys())\n",
    "train_mse = [models[model][\"train_mse\"] for model in model_names]\n",
    "test_mse = [models[model][\"test_mse\"] for model in model_names]"
   ]
  },
  {
   "cell_type": "code",
   "execution_count": null,
   "metadata": {},
   "outputs": [],
   "source": [
    "model_summary = pd.DataFrame({\"Models\" : model_names, \"MSE training set\" : train_mse, \"MSE test set\" : test_mse}).round(2)"
   ]
  },
  {
   "cell_type": "code",
   "execution_count": null,
   "metadata": {},
   "outputs": [],
   "source": [
    "model_summary"
   ]
  },
  {
   "cell_type": "code",
   "execution_count": null,
   "metadata": {},
   "outputs": [],
   "source": [
    "model_summary.to_excel(\"model_summary.xlsx\")"
   ]
  },
  {
   "cell_type": "code",
   "execution_count": null,
   "metadata": {},
   "outputs": [],
   "source": [
    "joblib.dump(RF, 'RF.joblib')"
   ]
  },
  {
   "cell_type": "markdown",
   "metadata": {},
   "source": [
    "# Final model"
   ]
  },
  {
   "cell_type": "code",
   "execution_count": null,
   "metadata": {},
   "outputs": [],
   "source": [
    "# set parameters\n",
    "\n",
    "params = GB_gs.best_params_\n",
    "\n",
    "lower = GradientBoostingRegressor().set_params(**params)\n",
    "mid = GradientBoostingRegressor().set_params(**params)\n",
    "upper = GradientBoostingRegressor().set_params(**params)\n",
    "\n",
    "LOWER_ALPHA = 0.025\n",
    "\n",
    "UPPER_ALPHA = 0.975\n",
    "\n",
    "lower.loss = \"quantile\"\n",
    "lower.alpha = LOWER_ALPHA\n",
    "upper.loss = \"quantile\"\n",
    "upper.alpha = UPPER_ALPHA"
   ]
  },
  {
   "cell_type": "code",
   "execution_count": null,
   "metadata": {},
   "outputs": [],
   "source": [
    "# Fit models\n",
    "lower.fit(X_train, y_train)\n",
    "mid.fit(X_train, y_train)\n",
    "upper.fit(X_train, y_train)"
   ]
  },
  {
   "cell_type": "code",
   "execution_count": null,
   "metadata": {},
   "outputs": [],
   "source": [
    "#Save models\n",
    "joblib.dump(lower,'gb_lower_model.joblib')\n",
    "joblib.dump(mid, 'gb_model.joblib')\n",
    "joblib.dump(upper, 'gb_upper_model.joblib')"
   ]
  },
  {
   "cell_type": "markdown",
   "metadata": {},
   "source": [
    "# Prediction interval comparison"
   ]
  },
  {
   "cell_type": "code",
   "execution_count": null,
   "metadata": {},
   "outputs": [],
   "source": [
    "RF = joblib.load(\"RF.joblib\")"
   ]
  },
  {
   "cell_type": "code",
   "execution_count": null,
   "metadata": {},
   "outputs": [],
   "source": [
    "def pred_ints(model, X, percentile=95):\n",
    "    err_down = []\n",
    "    err_up = []\n",
    "    y = []\n",
    "    for x in X:\n",
    "        x = x.reshape(1, -1)\n",
    "        preds = []\n",
    "        for pred in model.estimators_:\n",
    "            preds.append(pred.predict(x))\n",
    "        err_down.append(np.percentile(preds, (100 - percentile) / 2. ))\n",
    "        err_up.append(np.percentile(preds, 100 - (100 - percentile) / 2.))\n",
    "#        y.append(model.predict(x))\n",
    "    return err_down, y, err_up"
   ]
  },
  {
   "cell_type": "code",
   "execution_count": null,
   "metadata": {},
   "outputs": [],
   "source": [
    "low_RF, y, up_RF = pred_ints(RF, X_test.values)"
   ]
  },
  {
   "cell_type": "code",
   "execution_count": null,
   "metadata": {},
   "outputs": [],
   "source": [
    "low_GB, up_GB = lower.predict(X_test), upper.predict(X_test)"
   ]
  },
  {
   "cell_type": "code",
   "execution_count": null,
   "metadata": {},
   "outputs": [],
   "source": [
    "truth = y_test\n",
    "correct = 0\n",
    "for i, val in enumerate(truth):\n",
    "    if low_RF[i] <= val <= up_RF[i]:\n",
    "        correct += 1\n",
    "print(\"Score RF: \", correct/len(truth))"
   ]
  },
  {
   "cell_type": "code",
   "execution_count": null,
   "metadata": {},
   "outputs": [],
   "source": [
    "truth = y_test\n",
    "correct = 0\n",
    "for i, val in enumerate(truth):\n",
    "    if low_GB[i] <= val <= up_GB[i]:\n",
    "        correct += 1\n",
    "print(\"Score RF: \", correct/len(truth))"
   ]
  }
 ],
 "metadata": {
  "accelerator": "TPU",
  "colab": {
   "collapsed_sections": [],
   "name": "Motor",
   "provenance": [],
   "toc_visible": true
  },
  "kernelspec": {
   "display_name": "Python 3",
   "language": "python",
   "name": "python3"
  },
  "language_info": {
   "codemirror_mode": {
    "name": "ipython",
    "version": 3
   },
   "file_extension": ".py",
   "mimetype": "text/x-python",
   "name": "python",
   "nbconvert_exporter": "python",
   "pygments_lexer": "ipython3",
   "version": "3.7.4"
  }
 },
 "nbformat": 4,
 "nbformat_minor": 1
}
