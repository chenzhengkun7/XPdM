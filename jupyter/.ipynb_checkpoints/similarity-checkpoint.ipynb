{
 "cells": [
  {
   "cell_type": "code",
   "execution_count": null,
   "metadata": {},
   "outputs": [],
   "source": [
    "import os\n",
    "import numpy as np\n",
    "import pandas as pd\n",
    "import pickle\n",
    "import matplotlib.pyplot as plt\n",
    "import joblib\n",
    "from sklearn.model_selection import RandomizedSearchCV"
   ]
  },
  {
   "cell_type": "markdown",
   "metadata": {},
   "source": [
    "# Load data and models"
   ]
  },
  {
   "cell_type": "code",
   "execution_count": null,
   "metadata": {},
   "outputs": [],
   "source": [
    "data_location = os.path.dirname(os.path.dirname(os.path.abspath('__file__'))) + \"\\\\Data\""
   ]
  },
  {
   "cell_type": "code",
   "execution_count": null,
   "metadata": {},
   "outputs": [],
   "source": [
    "train_df = pickle.load(open(data_location + '/train_df', 'rb'))\n",
    "demo_df = pickle.load(open(data_location + '/demo_df', 'rb'))\n",
    "model = joblib.load(\"gb_model.joblib\")"
   ]
  },
  {
   "cell_type": "markdown",
   "metadata": {},
   "source": [
    "# Find most similar engines"
   ]
  },
  {
   "cell_type": "code",
   "execution_count": null,
   "metadata": {},
   "outputs": [],
   "source": [
    "historic_predicted_RUL = {}\n",
    "for engine in train_df[\"unit\"].unique():\n",
    "    historic_predicted_RUL[engine] = list(model.predict(train_df[train_df[\"unit\"] == engine].drop(columns = [\"unit\", \"RUL\"])))\n",
    "    "
   ]
  },
  {
   "cell_type": "code",
   "execution_count": null,
   "metadata": {},
   "outputs": [],
   "source": [
    "max_sequence = max([len(historic_predicted_RUL[engine]) for engine in historic_predicted_RUL.keys()])\n",
    "\n",
    "for engine in historic_predicted_RUL.keys():\n",
    "    historic_predicted_RUL[engine] = historic_predicted_RUL[engine] + int((max_sequence - len(historic_predicted_RUL[engine])))*[0]"
   ]
  },
  {
   "cell_type": "code",
   "execution_count": null,
   "metadata": {},
   "outputs": [],
   "source": [
    "def find_most_similar(sequence, history):\n",
    "    most_similar = 0\n",
    "    most_similar_distance = 0\n",
    "    for engine in history.keys():\n",
    "       \n",
    "        distance = sum(abs(np.array(history[engine]) - np.array(sequence)))\n",
    "        if distance == 0:\n",
    "            continue\n",
    "        elif distance < most_similar_distance or most_similar_distance == 0:\n",
    "            most_similar_distance = distance\n",
    "            most_similar = engine\n",
    "    return most_similar, most_similar_distance"
   ]
  },
  {
   "cell_type": "code",
   "execution_count": null,
   "metadata": {},
   "outputs": [],
   "source": [
    "for i in historic_predicted_RUL.keys():\n",
    "    most_similar, _ = find_most_similar(historic_predicted_RUL[i], historic_predicted_RUL)\n",
    "    print(\"engine\" + str(i))\n",
    "    print(\"most similar: \" + str(most_similar))\n",
    "    plt.plot(historic_predicted_RUL[i])\n",
    "    plt.plot(historic_predicted_RUL[most_similar])\n",
    "    plt.show()"
   ]
  },
  {
   "cell_type": "code",
   "execution_count": null,
   "metadata": {},
   "outputs": [],
   "source": [
    "pickle.dump(historic_predicted_RUL, open(data_location + \"\\historic_RUL\", \"wb\"))"
   ]
  },
  {
   "cell_type": "markdown",
   "metadata": {},
   "source": [
    "# Visualizations for similarities on the demo set"
   ]
  },
  {
   "cell_type": "code",
   "execution_count": null,
   "metadata": {},
   "outputs": [],
   "source": [
    "demo_predicitons = {}\n",
    "for engine in demo_df[\"unit\"].unique():\n",
    "    demo_predicitons[engine] = list(model.predict(demo_df[demo_df[\"unit\"] == engine].drop(columns = [\"unit\", \"RUL\"])))\n",
    "    demo_predicitons[engine] = demo_predicitons[engine] + int((max_sequence - len(demo_predicitons[engine])))*[0]"
   ]
  },
  {
   "cell_type": "code",
   "execution_count": null,
   "metadata": {},
   "outputs": [],
   "source": [
    "fig, ax = plt.subplots(5, 1, sharex='col', sharey='row', figsize = (15,25))\n",
    "for c, engine in enumerate(demo_predicitons.keys()):\n",
    "    most_similar, _ = find_most_similar(demo_predicitons[engine], historic_predicted_RUL)\n",
    "#    ax[c, 1].subplots(5, 1, c+1, squeeze  = \"False\")\n",
    "    ax[c].plot(demo_predicitons[engine], label = \"Engine \" + str(int(engine)))\n",
    "    ax[c].plot(historic_predicted_RUL[most_similar], label = \"Most similar : Engine \" + str(int(most_similar)))\n",
    "    ax[c].set_title(\"Predicted RUL for engine \" + str(int(engine)))\n",
    "    ax[c].legend()\n",
    "    ax[c].set_xlabel(\"Cycle\")\n",
    "    ax[c].set_ylabel(\"Predicted RUL\")\n",
    "#    ax[c, 1].show()\n",
    "    "
   ]
  }
 ],
 "metadata": {
  "kernelspec": {
   "display_name": "Python 3",
   "language": "python",
   "name": "python3"
  },
  "language_info": {
   "codemirror_mode": {
    "name": "ipython",
    "version": 3
   },
   "file_extension": ".py",
   "mimetype": "text/x-python",
   "name": "python",
   "nbconvert_exporter": "python",
   "pygments_lexer": "ipython3",
   "version": "3.7.4"
  }
 },
 "nbformat": 4,
 "nbformat_minor": 2
}
