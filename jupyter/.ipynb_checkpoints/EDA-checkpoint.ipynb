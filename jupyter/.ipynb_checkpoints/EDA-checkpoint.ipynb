{
 "cells": [
  {
   "cell_type": "code",
   "execution_count": null,
   "metadata": {
    "colab": {
     "base_uri": "https://localhost:8080/",
     "height": 34
    },
    "colab_type": "code",
    "id": "c0JFqoctt5bs",
    "outputId": "85eefc93-11b8-42a2-c3ed-45e87a9aa94e"
   },
   "outputs": [],
   "source": [
    "import numpy as np\n",
    "import pandas as pd\n",
    "import regex as re\n",
    "import pickle\n",
    "import matplotlib.pyplot as plt\n",
    "import os\n"
   ]
  },
  {
   "cell_type": "code",
   "execution_count": null,
   "metadata": {},
   "outputs": [],
   "source": [
    "data_location = os.path.dirname(os.path.dirname(os.path.abspath('__file__'))) + \"\\\\Data\""
   ]
  },
  {
   "cell_type": "markdown",
   "metadata": {},
   "source": [
    "## Load data\n"
   ]
  },
  {
   "cell_type": "code",
   "execution_count": null,
   "metadata": {
    "colab": {},
    "colab_type": "code",
    "id": "biJEzd8B_j1r"
   },
   "outputs": [],
   "source": [
    "def file_to_df(path):\n",
    "\n",
    "    data = []\n",
    "\n",
    "    with open(path) as file:\n",
    "        lines = file.readlines()\n",
    "        file_data = [re.sub(\"\\\\n\", \"\", j).split(\" \")[:26] for j in lines]\n",
    "        for j in range(len(file_data)):\n",
    "            file_data[j] = list(map(float, file_data[j]))\n",
    "        data += file_data\n",
    "    columns = [\"unit\", \"cycle\", \"OS1\", \"OS2\", \"OS3\"] + [\"Total temperature at fan inlet\", \"Total temperature at LPC outlet\", \"Total temperature at HPC outlet\", \"Total temperature at LPT outlet\", \"Pressure at fan inlet\", \"Total pressure in bypass-duct\", \"Total pressure at HPC outlet\", \"Physical fan speed\", \"Physical core speed\", \"Engine pressure ratio\", \"Static pressure at HPC outlet\", \"Ratio of fuel flow to Ps30\", \"Corrected fan speed\", \"Corrected core speed\", \"Bypass Ratio\", \"Burner fuel-air ratio\", \"Bleed Enthalpy\", \"Demanded fan speed\", \"Demanded corrected fan speed\", \"HPT coolant bleed\", \"LPT coolant bleed\"]\n",
    "    return(pd.DataFrame(data, columns = columns))\n"
   ]
  },
  {
   "cell_type": "code",
   "execution_count": null,
   "metadata": {
    "colab": {},
    "colab_type": "code",
    "id": "8r4LifvfBSO9"
   },
   "outputs": [],
   "source": [
    "train_df = file_to_df(data_location + \"/train_FD001.txt\")\n",
    "test_df = file_to_df(data_location + \"test_FD001.txt\")"
   ]
  },
  {
   "cell_type": "code",
   "execution_count": null,
   "metadata": {},
   "outputs": [],
   "source": [
    "train_df.describe()"
   ]
  },
  {
   "cell_type": "code",
   "execution_count": null,
   "metadata": {},
   "outputs": [],
   "source": [
    "test_df.describe()"
   ]
  },
  {
   "cell_type": "code",
   "execution_count": null,
   "metadata": {},
   "outputs": [],
   "source": [
    "train_df.head()"
   ]
  },
  {
   "cell_type": "markdown",
   "metadata": {},
   "source": [
    "## Calculate train RUL"
   ]
  },
  {
   "cell_type": "code",
   "execution_count": null,
   "metadata": {
    "colab": {},
    "colab_type": "code",
    "id": "bN2unZVBKk1M"
   },
   "outputs": [],
   "source": [
    "def add_RUL(df, remaining_RUL = None):\n",
    "    RUL = []\n",
    "    for c, i in enumerate(df[\"unit\"].unique()):\n",
    "        count = df.loc[df['unit'] == i].shape[0]\n",
    "        for j in range(count):\n",
    "            if remaining_RUL == None:\n",
    "                RUL.append(max(df.loc[df['unit'] == i][\"cycle\"]) - j - 1)\n",
    "            else:\n",
    "                RUL.append(max(df.loc[df['unit'] == i][\"cycle\"]) - j - 1 + remaining_RUL[c])\n",
    "    df[\"RUL\"] = RUL\n",
    "    return df"
   ]
  },
  {
   "cell_type": "code",
   "execution_count": null,
   "metadata": {},
   "outputs": [],
   "source": [
    "train_df = add_RUL(train_df)"
   ]
  },
  {
   "cell_type": "code",
   "execution_count": null,
   "metadata": {
    "colab": {},
    "colab_type": "code",
    "id": "0r0wPB45Lfmk"
   },
   "outputs": [],
   "source": [
    "train_df[\"RUL\"].head()"
   ]
  },
  {
   "cell_type": "code",
   "execution_count": null,
   "metadata": {
    "colab": {},
    "colab_type": "code",
    "id": "gvkapnOdjntu"
   },
   "outputs": [],
   "source": [
    "pickle.dump(train_df, open('data/train_df', \"wb\" ))"
   ]
  },
  {
   "cell_type": "markdown",
   "metadata": {},
   "source": [
    "## Calculate test RUL"
   ]
  },
  {
   "cell_type": "code",
   "execution_count": null,
   "metadata": {},
   "outputs": [],
   "source": [
    "with open(data_location + \"/RUL_FD001.txt\", \"r\") as file:\n",
    "    #print((file.readlines()))\n",
    "    remaining_RUL = [int(re.sub(\"\\\\n\", \"\", j)) for j in file.readlines()]"
   ]
  },
  {
   "cell_type": "code",
   "execution_count": null,
   "metadata": {},
   "outputs": [],
   "source": [
    "with open(data_location + \"/RUL_FD001.txt\", \"r\") as file:\n",
    "    #print((file.readlines()))\n",
    "    remaining_RUL = [int(re.sub(\"\\\\n\", \"\", j)) for j in file.readlines()]\n",
    "    \n",
    "add_RUL(test_df, remaining_RUL)\n",
    "\n",
    "test_df.head(10)"
   ]
  },
  {
   "cell_type": "code",
   "execution_count": null,
   "metadata": {},
   "outputs": [],
   "source": [
    "pickle.dump(test_df, open(data_location + '/test_df', \"wb\" ))"
   ]
  },
  {
   "cell_type": "markdown",
   "metadata": {},
   "source": [
    "## Load train and test"
   ]
  },
  {
   "cell_type": "code",
   "execution_count": null,
   "metadata": {},
   "outputs": [],
   "source": [
    "train_df = pickle.load(open(data_location + '/train_df', 'rb'))\n",
    "test_df = pickle.load(open(data_location + '/test_df', 'rb'))"
   ]
  },
  {
   "cell_type": "markdown",
   "metadata": {},
   "source": [
    "## Removing features"
   ]
  },
  {
   "cell_type": "code",
   "execution_count": null,
   "metadata": {},
   "outputs": [],
   "source": [
    "pd.set_option('display.float_format', '{:.2f}'.format)"
   ]
  },
  {
   "cell_type": "code",
   "execution_count": null,
   "metadata": {},
   "outputs": [],
   "source": [
    "#nan values are produced due that the standard deviation can be 0\n",
    "train_df.corr()"
   ]
  },
  {
   "cell_type": "code",
   "execution_count": null,
   "metadata": {},
   "outputs": [],
   "source": [
    "print(train_df.corr()[[\"Pressure at fan inlet\", \"Engine pressure ratio\", \"Burner fuel-air ratio\",\"Demanded fan speed\", \"Demanded corrected fan speed\", \"OS3\", \"Total temperature at fan inlet\"]].to_latex())\n"
   ]
  },
  {
   "cell_type": "code",
   "execution_count": null,
   "metadata": {},
   "outputs": [],
   "source": [
    "fig = plt.figure()\n",
    "ax = plt.subplot(111)\n",
    "ax.scatter(train_df[\"Corrected fan speed\"], train_df[\"Physical fan speed\"])\n",
    "plt.xlabel(\"Corrected fan speed\")\n",
    "plt.ylabel(\"Physical fan speed\")\n",
    "plt.show()\n",
    "\n",
    "print(\"Correlation 'Corrected fan speed' and 'Physical fan speed': \", np.corrcoef((train_df[\"Corrected fan speed\"], train_df[\"Physical fan speed\"]))[0][1])\n",
    "print(\"Correlation 'RUL' and 'Physical fan speed': \", np.corrcoef((train_df[\"RUL\"], train_df[\"Physical fan speed\"]))[0][1])\n",
    "print(\"Correlation 'Corrected fan speed' and 'RUL': \", np.corrcoef((train_df[\"Corrected fan speed\"], train_df[\"RUL\"]))[0][1])"
   ]
  },
  {
   "cell_type": "code",
   "execution_count": null,
   "metadata": {},
   "outputs": [],
   "source": [
    "fig = plt.figure()\n",
    "ax = plt.subplot(111)\n",
    "ax.scatter(train_df[\"Corrected core speed\"], train_df[\"Physical core speed\"])\n",
    "plt.xlabel(\"Corrected core speed\")\n",
    "plt.ylabel(\"Physical core speed\")\n",
    "plt.show()\n",
    "\n",
    "print(\"Correlation 'Corrected core speed' and 'Physical core speed': \", np.corrcoef((train_df[\"Corrected core speed\"], train_df[\"Physical core speed\"]))[0][1])\n",
    "print(\"Correlation 'RUL' and 'Physical core speed': \", np.corrcoef((train_df[\"RUL\"], train_df[\"Physical core speed\"]))[0][1])\n",
    "print(\"Correlation 'Corrected core speed' and 'RUL': \", np.corrcoef((train_df[\"Corrected core speed\"], train_df[\"RUL\"]))[0][1])"
   ]
  },
  {
   "cell_type": "code",
   "execution_count": null,
   "metadata": {},
   "outputs": [],
   "source": [
    "def remove_columns(df):\n",
    "    #removing variables with perfect correlation with \"Total temperature at fan inlet\"\n",
    "    df = df.drop(columns = [\"Pressure at fan inlet\", \"Engine pressure ratio\", \"Burner fuel-air ratio\"])\n",
    "    #removing variables with a standard deviation of 0 or zero correlations\n",
    "    df = df.drop(columns = [\"Demanded fan speed\", \"Demanded corrected fan speed\",\"OS1\", \"OS2\", \"OS3\", \"Total temperature at fan inlet\"])\n",
    "    #removing variable with almost perfect correlation with \"Physical core speed\"\n",
    "    df = df.drop(columns = [\"Corrected core speed\"])\n",
    "    return df"
   ]
  },
  {
   "cell_type": "code",
   "execution_count": null,
   "metadata": {},
   "outputs": [],
   "source": [
    "train_df = remove_columns(train_df)"
   ]
  },
  {
   "cell_type": "code",
   "execution_count": null,
   "metadata": {},
   "outputs": [],
   "source": [
    "test_df = remove_columns(test_df)"
   ]
  },
  {
   "cell_type": "code",
   "execution_count": null,
   "metadata": {},
   "outputs": [],
   "source": [
    "pickle.dump(train_df, open(data_location + '/train_df', \"wb\" ))\n",
    "pickle.dump(test_df, open(data_location + '/test_df', \"wb\" ))"
   ]
  },
  {
   "cell_type": "markdown",
   "metadata": {},
   "source": [
    "## EDA"
   ]
  },
  {
   "cell_type": "code",
   "execution_count": null,
   "metadata": {},
   "outputs": [],
   "source": [
    "train_df = pickle.load(open(data_location + '/train_df', 'rb'))\n",
    "test_df = pickle.load(open(data_location + '/test_df', 'rb'))"
   ]
  },
  {
   "cell_type": "markdown",
   "metadata": {},
   "source": [
    "The motor unit and the maximum RUL seems to be random."
   ]
  },
  {
   "cell_type": "code",
   "execution_count": null,
   "metadata": {},
   "outputs": [],
   "source": [
    "plt.scatter(train_df[\"unit\"].unique(), train_df.groupby([\"unit\"])[\"RUL\"].max())"
   ]
  },
  {
   "cell_type": "code",
   "execution_count": null,
   "metadata": {},
   "outputs": [],
   "source": [
    "plt.boxplot(train_df.groupby([\"unit\"])[\"RUL\"].max())"
   ]
  },
  {
   "cell_type": "code",
   "execution_count": null,
   "metadata": {},
   "outputs": [],
   "source": [
    "train_df[train_df[\"RUL\"]>300].groupby([\"unit\"]).max()"
   ]
  },
  {
   "cell_type": "code",
   "execution_count": null,
   "metadata": {},
   "outputs": [],
   "source": [
    "for column in train_df:\n",
    "    plt.figure()\n",
    "    train_df.boxplot([column])"
   ]
  },
  {
   "cell_type": "code",
   "execution_count": null,
   "metadata": {},
   "outputs": [],
   "source": [
    "for column in train_df:\n",
    "    plt.figure()\n",
    "    plt.xlabel(column)\n",
    "    plt.scatter(train_df.groupby([\"unit\"])[column].mean(), train_df.groupby([\"unit\"])[\"RUL\"].max())"
   ]
  },
  {
   "cell_type": "code",
   "execution_count": null,
   "metadata": {},
   "outputs": [],
   "source": [
    "for column in test_df:\n",
    "    plt.figure()\n",
    "    plt.xlabel(column)\n",
    "    plt.scatter(test_df.groupby([\"unit\"])[column].mean(), test_df.groupby([\"unit\"])[\"RUL\"].max())"
   ]
  },
  {
   "cell_type": "code",
   "execution_count": null,
   "metadata": {
    "scrolled": true
   },
   "outputs": [],
   "source": [
    "from scipy.stats import ttest_ind\n",
    "\n",
    "t_values = []\n",
    "equal = []\n",
    "\n",
    "for column in train_df:\n",
    "    t_test = ttest_ind(train_df[column], test_df[column], equal_var = False)\n",
    "    print(\"Means of {} are equal: {}\".format(column, t_test[1] > 0.05))\n",
    "    equal.append(t_test[1] > 0.05)\n",
    "    t_values.append(t_test[0])\n",
    "    "
   ]
  },
  {
   "cell_type": "code",
   "execution_count": null,
   "metadata": {},
   "outputs": [],
   "source": [
    "t_test_df = pd.DataFrame(\n",
    "{\"t-value\": t_values , \"Equal with p > 0.05\" : equal},\n",
    "index = train_df.columns)\n",
    "print(t_test_df.to_latex())"
   ]
  },
  {
   "cell_type": "code",
   "execution_count": null,
   "metadata": {},
   "outputs": [],
   "source": [
    "fig = plt.figure()\n",
    "ax = plt.subplot(111)\n",
    "ax.scatter(test_df[\"unit\"].unique(), test_df.groupby([\"unit\"])[\"RUL\"].min(), label = \"Test\")\n",
    "ax.scatter(train_df[\"unit\"].unique(), train_df.groupby([\"unit\"])[\"RUL\"].min(), label = \"Train\")\n",
    "ax.legend()\n",
    "plt.xlabel(\"Unit\")\n",
    "plt.ylabel(\"Min RUL\")\n",
    "plt.show()"
   ]
  },
  {
   "cell_type": "markdown",
   "metadata": {},
   "source": [
    "### Partion few engines for demonstration"
   ]
  },
  {
   "cell_type": "code",
   "execution_count": null,
   "metadata": {},
   "outputs": [],
   "source": [
    "demo_engines = train_df[train_df.unit.isin(range(96, 101))]\n",
    "train_df = train_df[train_df.unit.isin(range(96, 101)) == False]\n",
    "pickle.dump(train_df, open(data_location + '/train_df', \"wb\" ))\n",
    "pickle.dump(demo_engines, open(data_location + '/demo_df', \"wb\" ))"
   ]
  }
 ],
 "metadata": {
  "accelerator": "TPU",
  "colab": {
   "collapsed_sections": [],
   "name": "Motor",
   "provenance": [],
   "toc_visible": true
  },
  "kernelspec": {
   "display_name": "Python 3",
   "language": "python",
   "name": "python3"
  },
  "language_info": {
   "codemirror_mode": {
    "name": "ipython",
    "version": 3
   },
   "file_extension": ".py",
   "mimetype": "text/x-python",
   "name": "python",
   "nbconvert_exporter": "python",
   "pygments_lexer": "ipython3",
   "version": "3.7.4"
  }
 },
 "nbformat": 4,
 "nbformat_minor": 1
}
